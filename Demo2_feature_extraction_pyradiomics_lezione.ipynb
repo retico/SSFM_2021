{
  "nbformat": 4,
  "nbformat_minor": 0,
  "metadata": {
    "colab": {
      "name": "Copia di Demo2_feature_extraction_pyradiomics.ipynb",
      "provenance": [],
      "collapsed_sections": [],
      "toc_visible": true,
      "include_colab_link": true
    },
    "kernelspec": {
      "name": "python3",
      "display_name": "Python 3"
    }
  },
  "cells": [
    {
      "cell_type": "markdown",
      "metadata": {
        "id": "view-in-github",
        "colab_type": "text"
      },
      "source": [
        "<a href=\"https://colab.research.google.com/github/SaraSaponaro/SSFM_2021/blob/main/Demo2_feature_extraction_pyradiomics_lezione.ipynb\" target=\"_parent\"><img src=\"https://colab.research.google.com/assets/colab-badge.svg\" alt=\"Open In Colab\"/></a>"
      ]
    },
    {
      "cell_type": "markdown",
      "metadata": {
        "id": "t9OTD7yqOK_a"
      },
      "source": [
        "# Extracting features from a segmented lesion with PyRadiomics"
      ]
    },
    {
      "cell_type": "markdown",
      "metadata": {
        "id": "Toxlyzh9-_A9"
      },
      "source": [
        "This demo shows how to extract intensity and shape based features form segmented masses in mammography using the [PyRadiomics](https://www.radiomics.io/pyradiomics.html) python package.\n",
        "A number of mammography images and mass segmentatation masks are available in the [shared folder on Drive](https://drive.google.com/drive/folders/1YqK7ZkM-P2IrqfD7Pj-SCmjz-GWd_1-Y )\n",
        "\n",
        "in IMAGES/Mammography_masses/\n"
      ]
    },
    {
      "cell_type": "markdown",
      "metadata": {
        "id": "0tPFBhVmNFzF"
      },
      "source": [
        "# Reading data from Google Drive"
      ]
    },
    {
      "cell_type": "code",
      "metadata": {
        "id": "mTyqkmXu-rhd",
        "colab": {
          "base_uri": "https://localhost:8080/"
        },
        "outputId": "b06f3e52-8fde-4520-9605-56fbbf0bab3f"
      },
      "source": [
        "from google.colab import drive\n",
        "drive.mount('/content/gdrive')"
      ],
      "execution_count": 3,
      "outputs": [
        {
          "output_type": "stream",
          "text": [
            "Mounted at /content/gdrive\n"
          ],
          "name": "stdout"
        }
      ]
    },
    {
      "cell_type": "code",
      "metadata": {
        "id": "3XNOMaM2MEeT"
      },
      "source": [
        "!unzip -q /content/gdrive/My\\ Drive/cmepda_medphys_dataset/IMAGES/Mammography_masses/small_sample_Im_segmented_ref.zip -d /content/\n",
        "\n",
        "dataset_path = \"/content/small_sample_Im_segmented_ref\""
      ],
      "execution_count": 4,
      "outputs": []
    },
    {
      "cell_type": "code",
      "metadata": {
        "id": "-JmQNjmNMcHg",
        "colab": {
          "base_uri": "https://localhost:8080/"
        },
        "outputId": "94fa6153-febd-42a1-b9dc-1f7e5eb0e2a7"
      },
      "source": [
        "!ls /content/small_sample_Im_segmented_ref"
      ],
      "execution_count": 5,
      "outputs": [
        {
          "output_type": "stream",
          "text": [
            "0008p1_3_1_2_mass_mask.pgm  0037p1_2_2_mass_mask.pgm\n",
            "0008p1_3_1_2_resized.pgm    0037p1_2_2_resized.pgm\n",
            "0016p1_2_1_mass_mask.pgm    0069p1_4_2_mass_mask.pgm\n",
            "0016p1_2_1_resized.pgm\t    0069p1_4_2_resized.pgm\n",
            "0025p1_4_1_mass_mask.pgm    0088b1_3_1_1_mass_mask.pgm\n",
            "0025p1_4_1_resized.pgm\t    0088b1_3_1_1_resized.pgm\n",
            "0036p1_1_1_mass_mask.pgm    0197u1_4_2_mass_mask.pgm\n",
            "0036p1_1_1_resized.pgm\t    0197u1_4_2_resized.pgm\n"
          ],
          "name": "stdout"
        }
      ]
    },
    {
      "cell_type": "markdown",
      "metadata": {
        "id": "5FHURHoJNmA0"
      },
      "source": [
        "# Overview of the dataset.\n",
        "We use [Pillow](https://pypi.org/project/Pillow/), a Python Imaging Library which adds image processing capabilities to the Python interpreter"
      ]
    },
    {
      "cell_type": "code",
      "metadata": {
        "id": "OWcXgBnaNnT-"
      },
      "source": [
        "import os\n",
        "import PIL"
      ],
      "execution_count": 6,
      "outputs": []
    },
    {
      "cell_type": "code",
      "metadata": {
        "id": "ciTxIwLvNr2P",
        "colab": {
          "base_uri": "https://localhost:8080/",
          "height": 141
        },
        "outputId": "35cf5e6a-4ff1-4ba5-a7d1-34af911ff1c4"
      },
      "source": [
        "PIL.Image.open(os.path.join(dataset_path, \"0008p1_3_1_2_resized.pgm\"))"
      ],
      "execution_count": 7,
      "outputs": [
        {
          "output_type": "execute_result",
          "data": {
            "image/png": "[encoded data removed]",
            "text/plain": [
              "<PIL.PpmImagePlugin.PpmImageFile image mode=L size=125x125 at 0x7F1B18EC7490>"
            ]
          },
          "metadata": {
            "tags": []
          },
          "execution_count": 7
        }
      ]
    },
    {
      "cell_type": "code",
      "metadata": {
        "id": "rj4vYBWjN5mI",
        "colab": {
          "base_uri": "https://localhost:8080/",
          "height": 141
        },
        "outputId": "2967dd4f-9ff0-4850-ca26-5ea426b0b999"
      },
      "source": [
        "PIL.Image.open(os.path.join(dataset_path, \"0008p1_3_1_2_mass_mask.pgm\"))"
      ],
      "execution_count": 8,
      "outputs": [
        {
          "output_type": "execute_result",
          "data": {
            "image/png": "[encoded data removed]",
            "text/plain": [
              "<PIL.PpmImagePlugin.PpmImageFile image mode=L size=125x125 at 0x7F1B14D78D10>"
            ]
          },
          "metadata": {
            "tags": []
          },
          "execution_count": 8
        }
      ]
    },
    {
      "cell_type": "markdown",
      "metadata": {
        "id": "7l49tQN6SKgx"
      },
      "source": [
        "# Install PyRadiomics"
      ]
    },
    {
      "cell_type": "code",
      "metadata": {
        "id": "rfNm5351Scbq",
        "colab": {
          "base_uri": "https://localhost:8080/"
        },
        "outputId": "bfb80b5d-fbb9-4434-cb80-9ce82abbf589"
      },
      "source": [
        "!pip install pyradiomics"
      ],
      "execution_count": 9,
      "outputs": [
        {
          "output_type": "stream",
          "text": [
            "Collecting pyradiomics\n",
            "\u001b[?25l  Downloading https://files.pythonhosted.org/packages/8c/03/694a45860268a3b96c9a8b88f7064d959d383332c7d7adb4a72a49035ac2/pyradiomics-3.0.1-cp37-cp37m-manylinux1_x86_64.whl (188kB)\n",
            "\r\u001b[K     |█▊                              | 10kB 12.6MB/s eta 0:00:01\r\u001b[K     |███▌                            | 20kB 17.7MB/s eta 0:00:01\r\u001b[K     |█████▏                          | 30kB 15.2MB/s eta 0:00:01\r\u001b[K     |███████                         | 40kB 10.3MB/s eta 0:00:01\r\u001b[K     |████████▊                       | 51kB 4.5MB/s eta 0:00:01\r\u001b[K     |██████████▍                     | 61kB 5.0MB/s eta 0:00:01\r\u001b[K     |████████████▏                   | 71kB 5.1MB/s eta 0:00:01\r\u001b[K     |██████████████                  | 81kB 5.5MB/s eta 0:00:01\r\u001b[K     |███████████████▋                | 92kB 5.9MB/s eta 0:00:01\r\u001b[K     |█████████████████▍              | 102kB 6.2MB/s eta 0:00:01\r\u001b[K     |███████████████████▏            | 112kB 6.2MB/s eta 0:00:01\r\u001b[K     |████████████████████▉           | 122kB 6.2MB/s eta 0:00:01\r\u001b[K     |██████████████████████▋         | 133kB 6.2MB/s eta 0:00:01\r\u001b[K     |████████████████████████▍       | 143kB 6.2MB/s eta 0:00:01\r\u001b[K     |██████████████████████████      | 153kB 6.2MB/s eta 0:00:01\r\u001b[K     |███████████████████████████▉    | 163kB 6.2MB/s eta 0:00:01\r\u001b[K     |█████████████████████████████▋  | 174kB 6.2MB/s eta 0:00:01\r\u001b[K     |███████████████████████████████▎| 184kB 6.2MB/s eta 0:00:01\r\u001b[K     |████████████████████████████████| 194kB 6.2MB/s \n",
            "\u001b[?25hRequirement already satisfied: six>=1.10.0 in /usr/local/lib/python3.7/dist-packages (from pyradiomics) (1.15.0)\n",
            "Requirement already satisfied: PyWavelets>=0.4.0 in /usr/local/lib/python3.7/dist-packages (from pyradiomics) (1.1.1)\n",
            "Collecting pykwalify>=1.6.0\n",
            "  Downloading https://files.pythonhosted.org/packages/1f/fd/ac2161cce19fd67a18c269073f8e86292b5511acec6f8ef6eab88615d032/pykwalify-1.8.0-py2.py3-none-any.whl\n",
            "Collecting SimpleITK>=0.9.1\n",
            "\u001b[?25l  Downloading https://files.pythonhosted.org/packages/9c/6b/85df5eb3a8059b23a53a9f224476e75473f9bcc0a8583ed1a9c34619f372/SimpleITK-2.0.2-cp37-cp37m-manylinux2010_x86_64.whl (47.4MB)\n",
            "\u001b[K     |████████████████████████████████| 47.4MB 80kB/s \n",
            "\u001b[?25hRequirement already satisfied: numpy>=1.9.2 in /usr/local/lib/python3.7/dist-packages (from pyradiomics) (1.19.5)\n",
            "Requirement already satisfied: docopt>=0.6.2 in /usr/local/lib/python3.7/dist-packages (from pykwalify>=1.6.0->pyradiomics) (0.6.2)\n",
            "Collecting ruamel.yaml>=0.16.0\n",
            "\u001b[?25l  Downloading https://files.pythonhosted.org/packages/29/4e/c3105bbbbc662f6a671a505f00ec771e93b5254f09fbb06002af9087071a/ruamel.yaml-0.17.4-py3-none-any.whl (101kB)\n",
            "\u001b[K     |████████████████████████████████| 102kB 7.9MB/s \n",
            "\u001b[?25hRequirement already satisfied: python-dateutil>=2.8.0 in /usr/local/lib/python3.7/dist-packages (from pykwalify>=1.6.0->pyradiomics) (2.8.1)\n",
            "Collecting ruamel.yaml.clib>=0.1.2; platform_python_implementation == \"CPython\" and python_version < \"3.10\"\n",
            "\u001b[?25l  Downloading https://files.pythonhosted.org/packages/5e/6e/f652c56bbb2c3d3fca252ffc7c0358597f57a1bbdf484dac683054950c63/ruamel.yaml.clib-0.2.2-cp37-cp37m-manylinux1_x86_64.whl (547kB)\n",
            "\u001b[K     |████████████████████████████████| 552kB 46.0MB/s \n",
            "\u001b[?25hInstalling collected packages: ruamel.yaml.clib, ruamel.yaml, pykwalify, SimpleITK, pyradiomics\n",
            "Successfully installed SimpleITK-2.0.2 pykwalify-1.8.0 pyradiomics-3.0.1 ruamel.yaml-0.17.4 ruamel.yaml.clib-0.2.2\n"
          ],
          "name": "stdout"
        }
      ]
    },
    {
      "cell_type": "markdown",
      "metadata": {
        "id": "XQ056OloS-l0"
      },
      "source": [
        "# Use PyRadiomics for feature extraction"
      ]
    },
    {
      "cell_type": "code",
      "metadata": {
        "id": "TFPoMLZQSO8h"
      },
      "source": [
        "import os\n",
        "import numpy as np\n",
        "import six\n",
        "from radiomics import featureextractor, getFeatureClasses\n",
        "import radiomics"
      ],
      "execution_count": 10,
      "outputs": []
    },
    {
      "cell_type": "markdown",
      "metadata": {
        "id": "urCbvXPKTpce"
      },
      "source": [
        "The feature extractor handles preprocessing, and then calls the needed featureclasses to calculate the features."
      ]
    },
    {
      "cell_type": "code",
      "metadata": {
        "id": "zhDJVlI8W3TS"
      },
      "source": [
        "featureClasses = getFeatureClasses()"
      ],
      "execution_count": 11,
      "outputs": []
    },
    {
      "cell_type": "code",
      "metadata": {
        "id": "6oRxL7_jCnRi",
        "colab": {
          "base_uri": "https://localhost:8080/"
        },
        "outputId": "a299abe1-630d-445c-cf92-3314f4836d0c"
      },
      "source": [
        "featureClasses"
      ],
      "execution_count": 12,
      "outputs": [
        {
          "output_type": "execute_result",
          "data": {
            "text/plain": [
              "{'firstorder': radiomics.firstorder.RadiomicsFirstOrder,\n",
              " 'glcm': radiomics.glcm.RadiomicsGLCM,\n",
              " 'gldm': radiomics.gldm.RadiomicsGLDM,\n",
              " 'glrlm': radiomics.glrlm.RadiomicsGLRLM,\n",
              " 'glszm': radiomics.glszm.RadiomicsGLSZM,\n",
              " 'ngtdm': radiomics.ngtdm.RadiomicsNGTDM,\n",
              " 'shape': radiomics.shape.RadiomicsShape,\n",
              " 'shape2D': radiomics.shape2D.RadiomicsShape2D}"
            ]
          },
          "metadata": {
            "tags": []
          },
          "execution_count": 12
        }
      ]
    },
    {
      "cell_type": "markdown",
      "metadata": {
        "id": "pBSDu93V-_n-"
      },
      "source": [
        "We have to initialize the feature extractor and we can customize extraction settings "
      ]
    },
    {
      "cell_type": "code",
      "metadata": {
        "id": "LtrVu4pvTqIE"
      },
      "source": [
        "settings = {}\n",
        "settings['binWidth'] = 25\n",
        "settings['resampledPixelSpacing'] = None\n",
        "settings['interpolator'] = 'sitkBSpline'\n",
        "settings['verbose'] = True\n",
        "\n",
        "extractor = featureextractor.RadiomicsFeatureExtractor(**settings)"
      ],
      "execution_count": 13,
      "outputs": []
    },
    {
      "cell_type": "markdown",
      "metadata": {
        "id": "jj_qgyndDw8Q"
      },
      "source": [
        "Input images: by default 'original' (no filtered) images are enabled. Optionally different image types can be enabled, e.g. "
      ]
    },
    {
      "cell_type": "code",
      "metadata": {
        "id": "4_Yq6G3RE5KE"
      },
      "source": [
        "extractor.enableImageTypeByName('Wavelet')"
      ],
      "execution_count": 14,
      "outputs": []
    },
    {
      "cell_type": "markdown",
      "metadata": {
        "id": "pRClgZD1E-1c"
      },
      "source": [
        "To check the enabled input images"
      ]
    },
    {
      "cell_type": "code",
      "metadata": {
        "id": "iFAOB6wcT6g0",
        "colab": {
          "base_uri": "https://localhost:8080/"
        },
        "outputId": "09c25332-fce4-42db-9668-3dcd43068256"
      },
      "source": [
        "for imageType in extractor.enabledImagetypes.keys():\n",
        "    print('\\t' + imageType)"
      ],
      "execution_count": 15,
      "outputs": [
        {
          "output_type": "stream",
          "text": [
            "\tOriginal\n",
            "\tWavelet\n"
          ],
          "name": "stdout"
        }
      ]
    },
    {
      "cell_type": "markdown",
      "metadata": {
        "id": "z-ovlW4UFKsJ"
      },
      "source": [
        "To disable all feature classes"
      ]
    },
    {
      "cell_type": "code",
      "metadata": {
        "id": "oIPAOPQBFP2v"
      },
      "source": [
        "extractor.disableAllFeatures()"
      ],
      "execution_count": 17,
      "outputs": []
    },
    {
      "cell_type": "markdown",
      "metadata": {
        "id": "sWIzkzewFRVu"
      },
      "source": [
        "To enable all features in firstorder"
      ]
    },
    {
      "cell_type": "code",
      "metadata": {
        "id": "Mhva6yPTFXgY"
      },
      "source": [
        "extractor.enableFeatureClassByName('firstorder')"
      ],
      "execution_count": 18,
      "outputs": []
    },
    {
      "cell_type": "markdown",
      "metadata": {
        "id": "32YK1_u0FZip"
      },
      "source": [
        "Alternatively: only enable 'Mean' and 'Skewness' features in firstorder"
      ]
    },
    {
      "cell_type": "code",
      "metadata": {
        "id": "UPk9wrPPUAxZ"
      },
      "source": [
        "extractor.enableFeaturesByName(firstorder=['Mean', 'Skewness'])"
      ],
      "execution_count": 19,
      "outputs": []
    },
    {
      "cell_type": "code",
      "metadata": {
        "id": "C3ng9GHaVJmC",
        "colab": {
          "base_uri": "https://localhost:8080/"
        },
        "outputId": "bfb898c5-b276-470b-82b6-90f59740fe14"
      },
      "source": [
        "extractor.enabledFeatures\n"
      ],
      "execution_count": 20,
      "outputs": [
        {
          "output_type": "execute_result",
          "data": {
            "text/plain": [
              "{'firstorder': ['Mean', 'Skewness']}"
            ]
          },
          "metadata": {
            "tags": []
          },
          "execution_count": 20
        }
      ]
    },
    {
      "cell_type": "markdown",
      "metadata": {
        "id": "aH-9NAWHFyAy"
      },
      "source": [
        "We can get the docstrings of the active features"
      ]
    },
    {
      "cell_type": "code",
      "metadata": {
        "id": "snoGTeM0UF0U",
        "colab": {
          "base_uri": "https://localhost:8080/"
        },
        "outputId": "09d1c665-0151-4091-d18d-4bda8d59c171"
      },
      "source": [
        "print('Active features:')\n",
        "for cls, features in six.iteritems(extractor.enabledFeatures):\n",
        "  if len(features) == 0:\n",
        "    features = [f for f, deprecated in six.iteritems(featureClasses[cls].getFeatureNames()) if not deprecated]\n",
        "  for f in features:\n",
        "    print(f)\n",
        "    print(getattr(featureClasses[cls], 'get%sFeatureValue' % f).__doc__)"
      ],
      "execution_count": 21,
      "outputs": [
        {
          "output_type": "stream",
          "text": [
            "Active features:\n",
            "Mean\n",
            "\n",
            "    **8. Mean**\n",
            "\n",
            "    .. math::\n",
            "      \\textit{mean} = \\frac{1}{N_p}\\displaystyle\\sum^{N_p}_{i=1}{\\textbf{X}(i)}\n",
            "\n",
            "    The average gray level intensity within the ROI.\n",
            "    \n",
            "Skewness\n",
            "\n",
            "    **16. Skewness**\n",
            "\n",
            "    .. math::\n",
            "      \\textit{skewness} = \\displaystyle\\frac{\\mu_3}{\\sigma^3} =\n",
            "      \\frac{\\frac{1}{N_p}\\sum^{N_p}_{i=1}{(\\textbf{X}(i)-\\bar{X})^3}}\n",
            "      {\\left(\\sqrt{\\frac{1}{N_p}\\sum^{N_p}_{i=1}{(\\textbf{X}(i)-\\bar{X})^2}}\\right)^3}\n",
            "\n",
            "    Where :math:`\\mu_3` is the 3\\ :sup:`rd` central moment.\n",
            "\n",
            "    Skewness measures the asymmetry of the distribution of values about the Mean value. Depending on where the tail is\n",
            "    elongated and the mass of the distribution is concentrated, this value can be positive or negative.\n",
            "\n",
            "    Related links:\n",
            "\n",
            "    https://en.wikipedia.org/wiki/Skewness\n",
            "\n",
            "    .. note::\n",
            "      In case of a flat region, the standard deviation and 4\\ :sup:`rd` central moment will be both 0. In this case, a\n",
            "      value of 0 is returned.\n",
            "    \n"
          ],
          "name": "stdout"
        }
      ]
    },
    {
      "cell_type": "markdown",
      "metadata": {
        "id": "UbEpzIvoXcye"
      },
      "source": [
        "# Reading the images in memory "
      ]
    },
    {
      "cell_type": "markdown",
      "metadata": {
        "id": "Bks9RqBm12nM"
      },
      "source": [
        "PyRadiomics accept [SimpleITK](https://simpleitk.org/) objects in input"
      ]
    },
    {
      "cell_type": "code",
      "metadata": {
        "id": "afMSoC_1r-hz"
      },
      "source": [
        "import SimpleITK as sitk"
      ],
      "execution_count": 22,
      "outputs": []
    },
    {
      "cell_type": "markdown",
      "metadata": {
        "id": "2vXila-C2DU-"
      },
      "source": [
        "Out images are \".pgm\" files. This format is not supported by SimpleITK "
      ]
    },
    {
      "cell_type": "code",
      "metadata": {
        "id": "n2LcsJwNsfBa",
        "colab": {
          "base_uri": "https://localhost:8080/",
          "height": 34
        },
        "outputId": "ad0bc7bb-0d3c-49dd-dda8-389285e49bbc"
      },
      "source": [
        "os.path.join(dataset_path, \"0008p1_3_1_2_resized.pgm\")"
      ],
      "execution_count": 23,
      "outputs": [
        {
          "output_type": "execute_result",
          "data": {
            "application/vnd.google.colaboratory.intrinsic+json": {
              "type": "string"
            },
            "text/plain": [
              "'/content/small_sample_Im_segmented_ref/0008p1_3_1_2_resized.pgm'"
            ]
          },
          "metadata": {
            "tags": []
          },
          "execution_count": 23
        }
      ]
    },
    {
      "cell_type": "markdown",
      "metadata": {
        "id": "kxZplBMV2P2w"
      },
      "source": [
        "We read the images with Pillow and store them in NumPy array, than we convert them in a SimpleITK object"
      ]
    },
    {
      "cell_type": "code",
      "metadata": {
        "id": "a3g0NriB4Usd"
      },
      "source": [
        "def read_pgm_as_sitk(image_path):\n",
        "  \"\"\" Read a pgm image as sitk image \"\"\"\n",
        "  np_array = np.asarray(PIL.Image.open(image_path))\n",
        "  sitk_image = sitk.GetImageFromArray(np_array)\n",
        "  return sitk_image"
      ],
      "execution_count": 24,
      "outputs": []
    },
    {
      "cell_type": "code",
      "metadata": {
        "id": "WlAsRjmc46iV"
      },
      "source": [
        "im_1 = read_pgm_as_sitk(os.path.join(dataset_path, \"0008p1_3_1_2_resized.pgm\"))\n",
        "im_1_mask = read_pgm_as_sitk(os.path.join(dataset_path, \"0008p1_3_1_2_mass_mask.pgm\"))"
      ],
      "execution_count": 25,
      "outputs": []
    },
    {
      "cell_type": "code",
      "metadata": {
        "id": "busUk5p85REs",
        "colab": {
          "base_uri": "https://localhost:8080/"
        },
        "outputId": "09d29743-4338-4284-ce0b-1f7bb2e921a3"
      },
      "source": [
        "type(im_1)"
      ],
      "execution_count": 26,
      "outputs": [
        {
          "output_type": "execute_result",
          "data": {
            "text/plain": [
              "SimpleITK.SimpleITK.Image"
            ]
          },
          "metadata": {
            "tags": []
          },
          "execution_count": 26
        }
      ]
    },
    {
      "cell_type": "code",
      "metadata": {
        "colab": {
          "base_uri": "https://localhost:8080/",
          "height": 283
        },
        "id": "V1gpp3Ie5o1B",
        "outputId": "99fb3c9e-77ea-445d-e7d5-35538adf3c7c"
      },
      "source": [
        "img_array = sitk.GetArrayFromImage(im_1)\n",
        "import matplotlib.pyplot as plt\n",
        "\n",
        "plt.imshow(img_array, cmap='gray')"
      ],
      "execution_count": 44,
      "outputs": [
        {
          "output_type": "execute_result",
          "data": {
            "text/plain": [
              "<matplotlib.image.AxesImage at 0x7f1b02d3b450>"
            ]
          },
          "metadata": {
            "tags": []
          },
          "execution_count": 44
        },
        {
          "output_type": "display_data",
          "data": {
            "image/png": "[encoded data removed]",
            "text/plain": [
              "<Figure size 432x288 with 1 Axes>"
            ]
          },
          "metadata": {
            "tags": [],
            "needs_background": "light"
          }
        }
      ]
    },
    {
      "cell_type": "markdown",
      "metadata": {
        "id": "jfUGXJnr1Nia"
      },
      "source": [
        "# Calculating the values of active features"
      ]
    },
    {
      "cell_type": "code",
      "metadata": {
        "id": "Lcdl7qTCXcgT"
      },
      "source": [
        "print('Calculating features')\n",
        "featureDict = extractor.execute(im_1,im_1_mask,label=255)\n",
        "type(featureDict)"
      ],
      "execution_count": null,
      "outputs": []
    },
    {
      "cell_type": "markdown",
      "metadata": {
        "id": "WrYos8Jh3ALh"
      },
      "source": [
        "Features are stored in a dictionary"
      ]
    },
    {
      "cell_type": "code",
      "metadata": {
        "id": "p3-QyX_G6XSI"
      },
      "source": [
        "featureDict"
      ],
      "execution_count": null,
      "outputs": []
    },
    {
      "cell_type": "markdown",
      "metadata": {
        "id": "uANZMCnYmg3O"
      },
      "source": [
        "# Compute the features for the whole dataset and store them in a file "
      ]
    },
    {
      "cell_type": "markdown",
      "metadata": {
        "id": "_qIsF1Jh32Ub"
      },
      "source": [
        "We will compute the features for the whole dataset, and we will add to the dictionary the case IDs\n",
        "\n",
        "\n"
      ]
    },
    {
      "cell_type": "code",
      "metadata": {
        "id": "1AQV856H-3fB"
      },
      "source": [
        "import glob\n",
        "import csv"
      ],
      "execution_count": 32,
      "outputs": []
    },
    {
      "cell_type": "code",
      "metadata": {
        "id": "HG5P6YiX-5jV"
      },
      "source": [
        "images_fnames = glob.glob(os.path.join(dataset_path,'*_resized.pgm'))"
      ],
      "execution_count": 35,
      "outputs": []
    },
    {
      "cell_type": "code",
      "metadata": {
        "id": "G77SQzaM_cpI"
      },
      "source": [
        "extracted_data = []\n",
        "for image_fname in images_fnames:\n",
        "  mask_fname = image_fname.replace('resized', 'mass_mask')\n",
        "  image = read_pgm_as_sitk(image_fname)\n",
        "  mask = read_pgm_as_sitk(mask_fname)\n",
        "  featureVector = extractor.execute(image, mask, label=255)\n",
        "  featureVector['image_ID'] = os.path.basename(image_fname)\n",
        "  featureVector['mask_ID'] = os.path.basename(mask_fname)\n",
        "  extracted_data.append(featureVector)\n"
      ],
      "execution_count": 36,
      "outputs": []
    },
    {
      "cell_type": "code",
      "metadata": {
        "id": "PLvEM0i59qUM"
      },
      "source": [
        "extracted_data"
      ],
      "execution_count": null,
      "outputs": []
    },
    {
      "cell_type": "markdown",
      "metadata": {
        "id": "-DnGAGdK5rr9"
      },
      "source": [
        "The extracted data is a list of dictionary"
      ]
    },
    {
      "cell_type": "code",
      "metadata": {
        "id": "Lmt4CK11-voP",
        "colab": {
          "base_uri": "https://localhost:8080/"
        },
        "outputId": "5e8e6d3a-18bf-4da0-c107-5e29cf05538a"
      },
      "source": [
        "type(extracted_data)"
      ],
      "execution_count": 39,
      "outputs": [
        {
          "output_type": "execute_result",
          "data": {
            "text/plain": [
              "list"
            ]
          },
          "metadata": {
            "tags": []
          },
          "execution_count": 39
        }
      ]
    },
    {
      "cell_type": "markdown",
      "metadata": {
        "id": "BGISGYAd6mxW"
      },
      "source": [
        "We will identify the variables we will store in the .csv file. "
      ]
    },
    {
      "cell_type": "code",
      "metadata": {
        "id": "P74z4VXCqYcx",
        "colab": {
          "base_uri": "https://localhost:8080/"
        },
        "outputId": "71ac8791-f89c-4587-8418-43675a5bf24a"
      },
      "source": [
        "list(extracted_data[0].keys())"
      ],
      "execution_count": 40,
      "outputs": [
        {
          "output_type": "execute_result",
          "data": {
            "text/plain": [
              "['diagnostics_Versions_PyRadiomics',\n",
              " 'diagnostics_Versions_Numpy',\n",
              " 'diagnostics_Versions_SimpleITK',\n",
              " 'diagnostics_Versions_PyWavelet',\n",
              " 'diagnostics_Versions_Python',\n",
              " 'diagnostics_Configuration_Settings',\n",
              " 'diagnostics_Configuration_EnabledImageTypes',\n",
              " 'diagnostics_Image-original_Hash',\n",
              " 'diagnostics_Image-original_Dimensionality',\n",
              " 'diagnostics_Image-original_Spacing',\n",
              " 'diagnostics_Image-original_Size',\n",
              " 'diagnostics_Image-original_Mean',\n",
              " 'diagnostics_Image-original_Minimum',\n",
              " 'diagnostics_Image-original_Maximum',\n",
              " 'diagnostics_Mask-original_Hash',\n",
              " 'diagnostics_Mask-original_Spacing',\n",
              " 'diagnostics_Mask-original_Size',\n",
              " 'diagnostics_Mask-original_BoundingBox',\n",
              " 'diagnostics_Mask-original_VoxelNum',\n",
              " 'diagnostics_Mask-original_VolumeNum',\n",
              " 'diagnostics_Mask-original_CenterOfMassIndex',\n",
              " 'diagnostics_Mask-original_CenterOfMass',\n",
              " 'original_firstorder_Mean',\n",
              " 'original_firstorder_Skewness',\n",
              " 'wavelet-LH_firstorder_Mean',\n",
              " 'wavelet-LH_firstorder_Skewness',\n",
              " 'wavelet-HL_firstorder_Mean',\n",
              " 'wavelet-HL_firstorder_Skewness',\n",
              " 'wavelet-HH_firstorder_Mean',\n",
              " 'wavelet-HH_firstorder_Skewness',\n",
              " 'wavelet-LL_firstorder_Mean',\n",
              " 'wavelet-LL_firstorder_Skewness',\n",
              " 'image_ID',\n",
              " 'mask_ID']"
            ]
          },
          "metadata": {
            "tags": []
          },
          "execution_count": 40
        }
      ]
    },
    {
      "cell_type": "markdown",
      "metadata": {
        "id": "ARWP1O1e6bq0"
      },
      "source": [
        "We can either store them all: "
      ]
    },
    {
      "cell_type": "code",
      "metadata": {
        "id": "Q9Sa8zw-6cMU"
      },
      "source": [
        "csv_columns =  list(extracted_data[0].keys())"
      ],
      "execution_count": 41,
      "outputs": []
    },
    {
      "cell_type": "markdown",
      "metadata": {
        "id": "KIARtxjA7OvP"
      },
      "source": [
        "or we can select a number of interesting features:"
      ]
    },
    {
      "cell_type": "code",
      "metadata": {
        "id": "1pudLtCPp8ok",
        "colab": {
          "base_uri": "https://localhost:8080/"
        },
        "outputId": "6477a25e-6d82-4866-a20f-0208af0e1df1"
      },
      "source": [
        "selected_features_name = [x for x in list(extracted_data[0].keys()) if 'firstorder' in x]\n",
        "csv_columns = [ 'image_ID', 'mask_ID' ] + selected_features_name\n",
        "csv_columns \n"
      ],
      "execution_count": 42,
      "outputs": [
        {
          "output_type": "execute_result",
          "data": {
            "text/plain": [
              "['image_ID',\n",
              " 'mask_ID',\n",
              " 'original_firstorder_Mean',\n",
              " 'original_firstorder_Skewness',\n",
              " 'wavelet-LH_firstorder_Mean',\n",
              " 'wavelet-LH_firstorder_Skewness',\n",
              " 'wavelet-HL_firstorder_Mean',\n",
              " 'wavelet-HL_firstorder_Skewness',\n",
              " 'wavelet-HH_firstorder_Mean',\n",
              " 'wavelet-HH_firstorder_Skewness',\n",
              " 'wavelet-LL_firstorder_Mean',\n",
              " 'wavelet-LL_firstorder_Skewness']"
            ]
          },
          "metadata": {
            "tags": []
          },
          "execution_count": 42
        }
      ]
    },
    {
      "cell_type": "markdown",
      "metadata": {
        "id": "smA845vy40Gd"
      },
      "source": [
        "We will store the selected features for further analysis in a .csv file"
      ]
    },
    {
      "cell_type": "code",
      "metadata": {
        "id": "gYVxxu49mfj1"
      },
      "source": [
        "csv_file = \"extracted_features.csv\"\n",
        "\n",
        "with open(csv_file, 'w') as csvfile:\n",
        "    writer = csv.DictWriter(csvfile, fieldnames=csv_columns, extrasaction='ignore' )\n",
        "    writer.writeheader()\n",
        "    for data in extracted_data:\n",
        "        writer.writerow(data)"
      ],
      "execution_count": 45,
      "outputs": []
    },
    {
      "cell_type": "code",
      "metadata": {
        "id": "--1lnhO-9OjQ",
        "colab": {
          "base_uri": "https://localhost:8080/"
        },
        "outputId": "0d9c40a3-3241-4bf0-e3e3-d152687ef6c8"
      },
      "source": [
        "!ls"
      ],
      "execution_count": 46,
      "outputs": [
        {
          "output_type": "stream",
          "text": [
            "drive\t\t\tgdrive\t  sample_data\n",
            "extracted_features.csv\t__MACOSX  small_sample_Im_segmented_ref\n"
          ],
          "name": "stdout"
        }
      ]
    },
    {
      "cell_type": "code",
      "metadata": {
        "id": "nBXRkMTX91oH",
        "colab": {
          "base_uri": "https://localhost:8080/",
          "height": 328
        },
        "outputId": "7151b2a1-47b4-4e9d-904f-865c2e100971"
      },
      "source": [
        "import pandas as pd\n",
        "df = pd.read_csv('extracted_features.csv', sep=',') \n",
        "df"
      ],
      "execution_count": 52,
      "outputs": [
        {
          "output_type": "execute_result",
          "data": {
            "text/html": [
              "<div>\n",
              "<style scoped>\n",
              "    .dataframe tbody tr th:only-of-type {\n",
              "        vertical-align: middle;\n",
              "    }\n",
              "\n",
              "    .dataframe tbody tr th {\n",
              "        vertical-align: top;\n",
              "    }\n",
              "\n",
              "    .dataframe thead th {\n",
              "        text-align: right;\n",
              "    }\n",
              "</style>\n",
              "<table border=\"1\" class=\"dataframe\">\n",
              "  <thead>\n",
              "    <tr style=\"text-align: right;\">\n",
              "      <th></th>\n",
              "      <th>image_ID</th>\n",
              "      <th>mask_ID</th>\n",
              "      <th>original_firstorder_Mean</th>\n",
              "      <th>original_firstorder_Skewness</th>\n",
              "      <th>wavelet-LH_firstorder_Mean</th>\n",
              "      <th>wavelet-LH_firstorder_Skewness</th>\n",
              "      <th>wavelet-HL_firstorder_Mean</th>\n",
              "      <th>wavelet-HL_firstorder_Skewness</th>\n",
              "      <th>wavelet-HH_firstorder_Mean</th>\n",
              "      <th>wavelet-HH_firstorder_Skewness</th>\n",
              "      <th>wavelet-LL_firstorder_Mean</th>\n",
              "      <th>wavelet-LL_firstorder_Skewness</th>\n",
              "    </tr>\n",
              "  </thead>\n",
              "  <tbody>\n",
              "    <tr>\n",
              "      <th>0</th>\n",
              "      <td>0008p1_3_1_2_resized.pgm</td>\n",
              "      <td>0008p1_3_1_2_mass_mask.pgm</td>\n",
              "      <td>127.868695</td>\n",
              "      <td>-0.226103</td>\n",
              "      <td>-0.417037</td>\n",
              "      <td>0.008485</td>\n",
              "      <td>-0.409061</td>\n",
              "      <td>-0.694578</td>\n",
              "      <td>-0.000181</td>\n",
              "      <td>-0.099849</td>\n",
              "      <td>255.715845</td>\n",
              "      <td>-0.230803</td>\n",
              "    </tr>\n",
              "    <tr>\n",
              "      <th>1</th>\n",
              "      <td>0069p1_4_2_resized.pgm</td>\n",
              "      <td>0069p1_4_2_mass_mask.pgm</td>\n",
              "      <td>90.786982</td>\n",
              "      <td>-0.153444</td>\n",
              "      <td>-0.390353</td>\n",
              "      <td>-0.097369</td>\n",
              "      <td>-0.561163</td>\n",
              "      <td>0.066819</td>\n",
              "      <td>-0.002404</td>\n",
              "      <td>0.152356</td>\n",
              "      <td>181.485880</td>\n",
              "      <td>-0.195138</td>\n",
              "    </tr>\n",
              "    <tr>\n",
              "      <th>2</th>\n",
              "      <td>0025p1_4_1_resized.pgm</td>\n",
              "      <td>0025p1_4_1_mass_mask.pgm</td>\n",
              "      <td>204.362694</td>\n",
              "      <td>-0.241723</td>\n",
              "      <td>-0.750846</td>\n",
              "      <td>-0.034247</td>\n",
              "      <td>-0.967816</td>\n",
              "      <td>0.211509</td>\n",
              "      <td>0.014212</td>\n",
              "      <td>0.196231</td>\n",
              "      <td>408.672375</td>\n",
              "      <td>-0.226389</td>\n",
              "    </tr>\n",
              "    <tr>\n",
              "      <th>3</th>\n",
              "      <td>0197u1_4_2_resized.pgm</td>\n",
              "      <td>0197u1_4_2_mass_mask.pgm</td>\n",
              "      <td>85.942073</td>\n",
              "      <td>-0.055496</td>\n",
              "      <td>-0.141404</td>\n",
              "      <td>0.012399</td>\n",
              "      <td>-0.153354</td>\n",
              "      <td>-0.047822</td>\n",
              "      <td>0.006478</td>\n",
              "      <td>0.057096</td>\n",
              "      <td>171.795278</td>\n",
              "      <td>-0.045205</td>\n",
              "    </tr>\n",
              "    <tr>\n",
              "      <th>4</th>\n",
              "      <td>0036p1_1_1_resized.pgm</td>\n",
              "      <td>0036p1_1_1_mass_mask.pgm</td>\n",
              "      <td>180.682874</td>\n",
              "      <td>-0.231362</td>\n",
              "      <td>-0.571764</td>\n",
              "      <td>-0.156375</td>\n",
              "      <td>-0.453410</td>\n",
              "      <td>-0.094868</td>\n",
              "      <td>0.019553</td>\n",
              "      <td>0.034392</td>\n",
              "      <td>361.340790</td>\n",
              "      <td>-0.227224</td>\n",
              "    </tr>\n",
              "    <tr>\n",
              "      <th>5</th>\n",
              "      <td>0088b1_3_1_1_resized.pgm</td>\n",
              "      <td>0088b1_3_1_1_mass_mask.pgm</td>\n",
              "      <td>177.446134</td>\n",
              "      <td>-0.255500</td>\n",
              "      <td>-1.032466</td>\n",
              "      <td>-0.200928</td>\n",
              "      <td>-0.969070</td>\n",
              "      <td>-0.198718</td>\n",
              "      <td>-0.003268</td>\n",
              "      <td>-0.040249</td>\n",
              "      <td>354.850862</td>\n",
              "      <td>-0.256875</td>\n",
              "    </tr>\n",
              "    <tr>\n",
              "      <th>6</th>\n",
              "      <td>0016p1_2_1_resized.pgm</td>\n",
              "      <td>0016p1_2_1_mass_mask.pgm</td>\n",
              "      <td>191.465632</td>\n",
              "      <td>-0.609306</td>\n",
              "      <td>-0.757295</td>\n",
              "      <td>0.033237</td>\n",
              "      <td>-0.647626</td>\n",
              "      <td>0.766735</td>\n",
              "      <td>0.020392</td>\n",
              "      <td>-0.410479</td>\n",
              "      <td>382.815444</td>\n",
              "      <td>-0.589882</td>\n",
              "    </tr>\n",
              "    <tr>\n",
              "      <th>7</th>\n",
              "      <td>0037p1_2_2_resized.pgm</td>\n",
              "      <td>0037p1_2_2_mass_mask.pgm</td>\n",
              "      <td>93.341176</td>\n",
              "      <td>-0.995381</td>\n",
              "      <td>-0.610284</td>\n",
              "      <td>-0.046571</td>\n",
              "      <td>-0.898575</td>\n",
              "      <td>0.653780</td>\n",
              "      <td>0.013236</td>\n",
              "      <td>-0.246949</td>\n",
              "      <td>186.587161</td>\n",
              "      <td>-0.978492</td>\n",
              "    </tr>\n",
              "  </tbody>\n",
              "</table>\n",
              "</div>"
            ],
            "text/plain": [
              "                   image_ID  ... wavelet-LL_firstorder_Skewness\n",
              "0  0008p1_3_1_2_resized.pgm  ...                      -0.230803\n",
              "1    0069p1_4_2_resized.pgm  ...                      -0.195138\n",
              "2    0025p1_4_1_resized.pgm  ...                      -0.226389\n",
              "3    0197u1_4_2_resized.pgm  ...                      -0.045205\n",
              "4    0036p1_1_1_resized.pgm  ...                      -0.227224\n",
              "5  0088b1_3_1_1_resized.pgm  ...                      -0.256875\n",
              "6    0016p1_2_1_resized.pgm  ...                      -0.589882\n",
              "7    0037p1_2_2_resized.pgm  ...                      -0.978492\n",
              "\n",
              "[8 rows x 12 columns]"
            ]
          },
          "metadata": {
            "tags": []
          },
          "execution_count": 52
        }
      ]
    },
    {
      "cell_type": "markdown",
      "metadata": {
        "id": "DlPy80wt8FO7"
      },
      "source": [
        "We can copy the output file on our gdrive folder, as the /content/ forlder content will be reset after the session"
      ]
    },
    {
      "cell_type": "code",
      "metadata": {
        "id": "mOA-BHVv9-ka"
      },
      "source": [
        "!cp extracted_features.csv /content/gdrive/My\\ Drive/."
      ],
      "execution_count": null,
      "outputs": []
    }
  ]
}